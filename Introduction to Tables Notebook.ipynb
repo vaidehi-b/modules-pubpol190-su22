{
 "cells": [
  {
   "cell_type": "markdown",
   "id": "dbe6f39f",
   "metadata": {},
   "source": [
    "## Introduction to Tables\n",
    "\n",
    "### What is a Table?\n",
    "\n",
    "A table is an object in Python that allows you to store data. It is a collection of rows and columns. Each row corresponds to one entry in the table and each column corresponds to a particular aspect you have data about. For example, say you have a table with information about 10 college students. It would have one row for each student and one column for each aspect of the students (e.g. name, major, year in college, etc.).\n",
    "\n",
    "### Table Functions\n",
    "\n",
    "You can create and edit tables using functions. One type of functions we can use on tables are called table methods. We use table methods in a specific format: table_name.method_name(any arguments). We'll look at plenty of examples of table methods below!\n",
    "\n",
    "#### How to Create Tables\n",
    "\n",
    "Let's look at how to create tables. First, we have to import the `datascience` module using the following import statement:"
   ]
  },
  {
   "cell_type": "code",
   "execution_count": 1,
   "id": "bb0cf98c",
   "metadata": {},
   "outputs": [],
   "source": [
    "from datascience import *"
   ]
  },
  {
   "cell_type": "markdown",
   "id": "cff11f0d",
   "metadata": {},
   "source": [
    "A module is a collection of functions. We have to import modules using an import statement to use the functions they contain. We want to use the table functions in the `datascience` module, so we're importing it. The above statement is basically saying: from the `datascience` module, import all functions (which is what the * means).\n",
    "\n",
    "Next, we can create an empty table using the `Table()` function:"
   ]
  },
  {
   "cell_type": "code",
   "execution_count": 4,
   "id": "eba5a53d",
   "metadata": {},
   "outputs": [],
   "source": [
    "new_table = Table()"
   ]
  },
  {
   "cell_type": "markdown",
   "id": "70ab37e6",
   "metadata": {},
   "source": [
    "Here, we created a new variable called `new_table`, which is assigned to an empty table. Because it's an empty table, nothing shows up when we display it:"
   ]
  },
  {
   "cell_type": "code",
   "execution_count": 5,
   "id": "7d6a9e31",
   "metadata": {},
   "outputs": [
    {
     "data": {
      "text/html": [
       "<table border=\"1\" class=\"dataframe\">\n",
       "    <thead>\n",
       "        <tr>\n",
       "            \n",
       "        </tr>\n",
       "    </thead>\n",
       "    <tbody>\n",
       "    </tbody>\n",
       "</table>"
      ],
      "text/plain": []
     },
     "execution_count": 5,
     "metadata": {},
     "output_type": "execute_result"
    }
   ],
   "source": [
    "new_table"
   ]
  },
  {
   "cell_type": "markdown",
   "id": "dfe09c91",
   "metadata": {},
   "source": [
    "Now, let's add some data to this table. We can do this by creating the columns we want the table to have, then adding those columns to the table.\n",
    "\n",
    "Each column is a collection of values of the same type. So, we can use the `make_array` function to create columns."
   ]
  },
  {
   "cell_type": "code",
   "execution_count": 7,
   "id": "7afea860",
   "metadata": {},
   "outputs": [],
   "source": [
    "cafe_names = make_array(\"Peet's\", \"Romeo's\", \"Milano\", \"Strada\")\n",
    "cafe_prices = make_array(4, 5, 6.5, 3)"
   ]
  },
  {
   "cell_type": "markdown",
   "id": "bb15707d",
   "metadata": {},
   "source": [
    "Above, we created two columns: one for the names of different cafes in Berkeley and one for the prices of their coffee (note that the prices are made-up). Now, let's add these columns to the table using the `.with_columns` method:"
   ]
  },
  {
   "cell_type": "code",
   "execution_count": 9,
   "id": "7dd4cea3",
   "metadata": {},
   "outputs": [],
   "source": [
    "new_table = new_table.with_columns(\"Cafe Names\", cafe_names,\n",
    "                                  \"Cafe Prices\", cafe_prices)"
   ]
  },
  {
   "cell_type": "markdown",
   "id": "38bc7187",
   "metadata": {},
   "source": [
    "The first argument in the `.with_columns` method is the name of your column – make sure to enclose this name within single or double quotes. The second argument is the array with the values for this column.\n",
    "\n",
    "If we look at `new_table` now, we'll see that two new columns are added to it:"
   ]
  },
  {
   "cell_type": "code",
   "execution_count": 10,
   "id": "94cbcad0",
   "metadata": {},
   "outputs": [
    {
     "data": {
      "text/html": [
       "<table border=\"1\" class=\"dataframe\">\n",
       "    <thead>\n",
       "        <tr>\n",
       "            <th>Cafe Names</th> <th>Cafe Prices</th>\n",
       "        </tr>\n",
       "    </thead>\n",
       "    <tbody>\n",
       "        <tr>\n",
       "            <td>Peet's    </td> <td>4          </td>\n",
       "        </tr>\n",
       "        <tr>\n",
       "            <td>Romeo's   </td> <td>5          </td>\n",
       "        </tr>\n",
       "        <tr>\n",
       "            <td>Milano    </td> <td>6.5        </td>\n",
       "        </tr>\n",
       "        <tr>\n",
       "            <td>Strada    </td> <td>3          </td>\n",
       "        </tr>\n",
       "    </tbody>\n",
       "</table>"
      ],
      "text/plain": [
       "Cafe Names | Cafe Prices\n",
       "Peet's     | 4\n",
       "Romeo's    | 5\n",
       "Milano     | 6.5\n",
       "Strada     | 3"
      ]
     },
     "execution_count": 10,
     "metadata": {},
     "output_type": "execute_result"
    }
   ],
   "source": [
    "new_table"
   ]
  },
  {
   "cell_type": "markdown",
   "id": "032231f3",
   "metadata": {},
   "source": [
    "This is a good resource for learning about tables:\n",
    "- https://inferentialthinking.com/chapters/06/Tables.html\n",
    "\n",
    "---"
   ]
  }
 ],
 "metadata": {
  "kernelspec": {
   "display_name": "Python 3 (ipykernel)",
   "language": "python",
   "name": "python3"
  },
  "language_info": {
   "codemirror_mode": {
    "name": "ipython",
    "version": 3
   },
   "file_extension": ".py",
   "mimetype": "text/x-python",
   "name": "python",
   "nbconvert_exporter": "python",
   "pygments_lexer": "ipython3",
   "version": "3.9.15"
  }
 },
 "nbformat": 4,
 "nbformat_minor": 5
}
